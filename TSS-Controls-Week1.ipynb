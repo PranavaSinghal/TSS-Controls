{
 "cells": [
  {
   "cell_type": "markdown",
   "id": "ffe77ea5",
   "metadata": {},
   "source": [
    "# Week 1\n",
    "### Introduction\n",
    "Have you tried balancing a stick on one end with your palm? It is difficult the first time one tries,\n",
    "but with some practice, one could stabilize the stick around the vertical position more or less for\n",
    "a certain duration of time. One who tries this would certainly agree that the act of balancing a\n",
    "stick requires a great deal of fine control.\n",
    "The above example is just one of the many instances around us where things need to be\n",
    "controlled. Control refers to the action of trying to bring about desired behaviour/ properties in\n",
    "the state of a system, which is obvious. Many devices which seem to work like a charm require\n",
    "a good amount of control in the background for them to function properly. This is required for\n",
    "various reasons, such as ensuring that unwanted factors like noise or disturbances do not\n",
    "jeopardize their working, ensuring optimal resource usage, and maintaining stability.\n",
    "If you don’t want your systems to go out of control, this is the place to know a few basic ideas\n",
    "behind controlling.\n",
    "\n",
    "Anybody who wishes to know more about control theory will certainly refer to this at some point,\n",
    "so here is the link to get started…\n"
   ]
  },
  {
   "cell_type": "code",
   "execution_count": 11,
   "id": "bc1fb0b1",
   "metadata": {},
   "outputs": [
    {
     "data": {
      "text/html": [
       "<iframe width = 900, height = 400, src = \"https://en.wikipedia.org/wiki/Control_theory\",allowfullscreen></iframe>\n"
      ],
      "text/plain": [
       "<IPython.core.display.HTML object>"
      ]
     },
     "metadata": {},
     "output_type": "display_data"
    }
   ],
   "source": [
    "%%HTML\n",
    "<iframe width = 900, height = 400, src = \"https://en.wikipedia.org/wiki/Control_theory\",allowfullscreen></iframe>"
   ]
  },
  {
   "cell_type": "markdown",
   "id": "62d05d39",
   "metadata": {},
   "source": [
    "These are motivational videos to get psyched for what’s about to come\n",
    "\n",
    "### *Why Learn Control Theory*"
   ]
  },
  {
   "cell_type": "code",
   "execution_count": 12,
   "id": "e04640f8",
   "metadata": {},
   "outputs": [
    {
     "data": {
      "text/html": [
       "<iframe width=\"560\" height=\"315\" src=\"https://www.youtube.com/embed/oBc_BHxw78s\" title=\"YouTube video player\" frameborder=\"0\" allow=\"accelerometer; autoplay; clipboard-write; encrypted-media; gyroscope; picture-in-picture\" allowfullscreen></iframe>\n"
      ],
      "text/plain": [
       "<IPython.core.display.HTML object>"
      ]
     },
     "metadata": {},
     "output_type": "display_data"
    }
   ],
   "source": [
    "%%HTML\n",
    "<iframe width=\"560\" height=\"315\" src=\"https://www.youtube.com/embed/oBc_BHxw78s\" title=\"YouTube video player\" frameborder=\"0\" allow=\"accelerometer; autoplay; clipboard-write; encrypted-media; gyroscope; picture-in-picture\" allowfullscreen></iframe>"
   ]
  },
  {
   "cell_type": "markdown",
   "id": "34d6fd7b",
   "metadata": {},
   "source": [
    "### *Control Theory Overview*"
   ]
  },
  {
   "cell_type": "code",
   "execution_count": 13,
   "id": "31ed5d11",
   "metadata": {},
   "outputs": [
    {
     "data": {
      "text/html": [
       "<iframe width=\"560\" height=\"315\" src=\"https://www.youtube.com/embed/Pi7l8mMjYVE\" title=\"YouTube video player\" frameborder=\"0\" allow=\"accelerometer; autoplay; clipboard-write; encrypted-media; gyroscope; picture-in-picture\" allowfullscreen></iframe>\n"
      ],
      "text/plain": [
       "<IPython.core.display.HTML object>"
      ]
     },
     "metadata": {},
     "output_type": "display_data"
    }
   ],
   "source": [
    "%%HTML\n",
    "<iframe width=\"560\" height=\"315\" src=\"https://www.youtube.com/embed/Pi7l8mMjYVE\" title=\"YouTube video player\" frameborder=\"0\" allow=\"accelerometer; autoplay; clipboard-write; encrypted-media; gyroscope; picture-in-picture\" allowfullscreen></iframe>"
   ]
  },
  {
   "cell_type": "markdown",
   "id": "d4503552",
   "metadata": {},
   "source": [
    "With all the enthu you have now, let’s begin…\n",
    "\n",
    "## Control Systems\n",
    "\n",
    "Control system -\n",
    "\n",
    "A collection of components that are collectively responsible for bringing the output of the system\n",
    "to the one desired by the input.\n",
    "\n",
    "The input consists of parameters that dictate what the desired output should be.\n",
    "\n",
    "The output consists of a set of variables that describe the features of the system, collectively\n",
    "referred to as the state of the system. The state of a system is generally represented by .\n",
    "Ex — position and velocity of a car.\n",
    "\n",
    "\n",
    "*A control system generally consists of the following components* -\n",
    "Plant — The part of the control system that is being controlled. It consists of the actuator, which\n",
    "executes the control command, and the process which responds to the actuation and\n",
    "undergoes a time evolution. In many cases, the plant could be a dynamic system like a car or a\n",
    "pendulum.\n",
    "Controller — The part of the control system that provides control commands to the plant so that\n",
    "the state gets driven to the desired one. The control command is generally represented by .\n",
    "Sensors — The part of the control system that takes an observation/measurement of the state\n",
    "completely or partially. The sensor observation is generally represented by .\n",
    "Types of control systems\n",
    "Open Loop control systems\n",
    "Applying control commands without taking any measurements of the output\n",
    "Closed Loop control systems/ Feedback control systems\n",
    "Applying control commands based on the measurements of the output with the help of a\n",
    "controller\n",
    "Advantages of Closed Loop control -\n",
    "● Greater resistance to noise/bias/disturbances to the system\n",
    "● Efficient energy consumption\n",
    "● Alter the dynamic properties of the overall system\n",
    "To know more about control systems, check out the followingControl Systems Intro\n",
    "Closed-Loop Control"
   ]
  },
  {
   "cell_type": "code",
   "execution_count": null,
   "id": "6e1dd868",
   "metadata": {},
   "outputs": [],
   "source": []
  }
 ],
 "metadata": {
  "kernelspec": {
   "display_name": "Python 3",
   "language": "python",
   "name": "python3"
  },
  "language_info": {
   "codemirror_mode": {
    "name": "ipython",
    "version": 3
   },
   "file_extension": ".py",
   "mimetype": "text/x-python",
   "name": "python",
   "nbconvert_exporter": "python",
   "pygments_lexer": "ipython3",
   "version": "3.8.8"
  }
 },
 "nbformat": 4,
 "nbformat_minor": 5
}
