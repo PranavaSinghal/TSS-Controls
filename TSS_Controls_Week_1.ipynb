{
  "nbformat": 4,
  "nbformat_minor": 5,
  "metadata": {
    "kernelspec": {
      "display_name": "Python 3",
      "language": "python",
      "name": "python3"
    },
    "language_info": {
      "codemirror_mode": {
        "name": "ipython",
        "version": 3
      },
      "file_extension": ".py",
      "mimetype": "text/x-python",
      "name": "python",
      "nbconvert_exporter": "python",
      "pygments_lexer": "ipython3",
      "version": "3.8.8"
    },
    "colab": {
      "name": "TSS-Controls-Week-1.ipynb",
      "provenance": [],
      "collapsed_sections": []
    },
    "widgets": {
      "application/vnd.jupyter.widget-state+json": {
        "f25c1b24ea8e474084a504ac00c7f747": {
          "model_module": "@jupyter-widgets/controls",
          "model_name": "VBoxModel",
          "state": {
            "_view_name": "VBoxView",
            "_dom_classes": [
              "widget-interact"
            ],
            "_model_name": "VBoxModel",
            "_view_module": "@jupyter-widgets/controls",
            "_model_module_version": "1.5.0",
            "_view_count": null,
            "_view_module_version": "1.5.0",
            "box_style": "",
            "layout": "IPY_MODEL_391c5ee49070432aa76a200106af934d",
            "_model_module": "@jupyter-widgets/controls",
            "children": [
              "IPY_MODEL_e05c9112df0a4c4b8151a011bb60ec53",
              "IPY_MODEL_35ff558def704964a3fb74cbee968539",
              "IPY_MODEL_20e4b06c380e48528f7512ee4ef02245",
              "IPY_MODEL_590a87b93fec4b2ab47fa14ced36127a"
            ]
          }
        },
        "391c5ee49070432aa76a200106af934d": {
          "model_module": "@jupyter-widgets/base",
          "model_name": "LayoutModel",
          "state": {
            "_view_name": "LayoutView",
            "grid_template_rows": null,
            "right": null,
            "justify_content": null,
            "_view_module": "@jupyter-widgets/base",
            "overflow": null,
            "_model_module_version": "1.2.0",
            "_view_count": null,
            "flex_flow": null,
            "width": null,
            "min_width": null,
            "border": null,
            "align_items": null,
            "bottom": null,
            "_model_module": "@jupyter-widgets/base",
            "top": null,
            "grid_column": null,
            "overflow_y": null,
            "overflow_x": null,
            "grid_auto_flow": null,
            "grid_area": null,
            "grid_template_columns": null,
            "flex": null,
            "_model_name": "LayoutModel",
            "justify_items": null,
            "grid_row": null,
            "max_height": null,
            "align_content": null,
            "visibility": null,
            "align_self": null,
            "height": null,
            "min_height": null,
            "padding": null,
            "grid_auto_rows": null,
            "grid_gap": null,
            "max_width": null,
            "order": null,
            "_view_module_version": "1.2.0",
            "grid_template_areas": null,
            "object_position": null,
            "object_fit": null,
            "grid_auto_columns": null,
            "margin": null,
            "display": null,
            "left": null
          }
        },
        "e05c9112df0a4c4b8151a011bb60ec53": {
          "model_module": "@jupyter-widgets/controls",
          "model_name": "FloatSliderModel",
          "state": {
            "_view_name": "FloatSliderView",
            "style": "IPY_MODEL_37c32f24ae76491d96f9055234251324",
            "_dom_classes": [],
            "description": "Kc",
            "step": 1,
            "_model_name": "FloatSliderModel",
            "orientation": "horizontal",
            "max": 50,
            "_view_module": "@jupyter-widgets/controls",
            "_model_module_version": "1.5.0",
            "value": 5,
            "_view_count": null,
            "disabled": false,
            "_view_module_version": "1.5.0",
            "min": 0,
            "continuous_update": true,
            "readout_format": ".2f",
            "description_tooltip": null,
            "readout": true,
            "_model_module": "@jupyter-widgets/controls",
            "layout": "IPY_MODEL_1259b141846544698de99cd494da4e12"
          }
        },
        "35ff558def704964a3fb74cbee968539": {
          "model_module": "@jupyter-widgets/controls",
          "model_name": "FloatSliderModel",
          "state": {
            "_view_name": "FloatSliderView",
            "style": "IPY_MODEL_2a0f538c90614646ad82406df5ed865f",
            "_dom_classes": [],
            "description": "tauI",
            "step": 5,
            "_model_name": "FloatSliderModel",
            "orientation": "horizontal",
            "max": 180,
            "_view_module": "@jupyter-widgets/controls",
            "_model_module_version": "1.5.0",
            "value": 5,
            "_view_count": null,
            "disabled": false,
            "_view_module_version": "1.5.0",
            "min": 5,
            "continuous_update": true,
            "readout_format": ".2f",
            "description_tooltip": null,
            "readout": true,
            "_model_module": "@jupyter-widgets/controls",
            "layout": "IPY_MODEL_c89d55dbc70142cf84dc715d8601f246"
          }
        },
        "20e4b06c380e48528f7512ee4ef02245": {
          "model_module": "@jupyter-widgets/controls",
          "model_name": "FloatSliderModel",
          "state": {
            "_view_name": "FloatSliderView",
            "style": "IPY_MODEL_76b5b60d305a4ab4b5e6389fb2f2c442",
            "_dom_classes": [],
            "description": "tauD",
            "step": 1,
            "_model_name": "FloatSliderModel",
            "orientation": "horizontal",
            "max": 20,
            "_view_module": "@jupyter-widgets/controls",
            "_model_module_version": "1.5.0",
            "value": 0,
            "_view_count": null,
            "disabled": false,
            "_view_module_version": "1.5.0",
            "min": 0,
            "continuous_update": true,
            "readout_format": ".2f",
            "description_tooltip": null,
            "readout": true,
            "_model_module": "@jupyter-widgets/controls",
            "layout": "IPY_MODEL_cd6390b8a280471aa68dfc18124ad80c"
          }
        },
        "590a87b93fec4b2ab47fa14ced36127a": {
          "model_module": "@jupyter-widgets/output",
          "model_name": "OutputModel",
          "state": {
            "_view_name": "OutputView",
            "msg_id": "",
            "_dom_classes": [],
            "_model_name": "OutputModel",
            "outputs": [
              {
                "output_type": "display_data",
                "metadata": {
                  "tags": [],
                  "needs_background": "light"
                },
                "image/png": "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\n",
                "text/plain": "<Figure size 1440x504 with 1 Axes>"
              }
            ],
            "_view_module": "@jupyter-widgets/output",
            "_model_module_version": "1.0.0",
            "_view_count": null,
            "_view_module_version": "1.0.0",
            "layout": "IPY_MODEL_a96217ddf4df4b8f9b0b55aad7fa8bde",
            "_model_module": "@jupyter-widgets/output"
          }
        },
        "37c32f24ae76491d96f9055234251324": {
          "model_module": "@jupyter-widgets/controls",
          "model_name": "SliderStyleModel",
          "state": {
            "_view_name": "StyleView",
            "handle_color": null,
            "_model_name": "SliderStyleModel",
            "description_width": "",
            "_view_module": "@jupyter-widgets/base",
            "_model_module_version": "1.5.0",
            "_view_count": null,
            "_view_module_version": "1.2.0",
            "_model_module": "@jupyter-widgets/controls"
          }
        },
        "1259b141846544698de99cd494da4e12": {
          "model_module": "@jupyter-widgets/base",
          "model_name": "LayoutModel",
          "state": {
            "_view_name": "LayoutView",
            "grid_template_rows": null,
            "right": null,
            "justify_content": null,
            "_view_module": "@jupyter-widgets/base",
            "overflow": null,
            "_model_module_version": "1.2.0",
            "_view_count": null,
            "flex_flow": null,
            "width": null,
            "min_width": null,
            "border": null,
            "align_items": null,
            "bottom": null,
            "_model_module": "@jupyter-widgets/base",
            "top": null,
            "grid_column": null,
            "overflow_y": null,
            "overflow_x": null,
            "grid_auto_flow": null,
            "grid_area": null,
            "grid_template_columns": null,
            "flex": null,
            "_model_name": "LayoutModel",
            "justify_items": null,
            "grid_row": null,
            "max_height": null,
            "align_content": null,
            "visibility": null,
            "align_self": null,
            "height": null,
            "min_height": null,
            "padding": null,
            "grid_auto_rows": null,
            "grid_gap": null,
            "max_width": null,
            "order": null,
            "_view_module_version": "1.2.0",
            "grid_template_areas": null,
            "object_position": null,
            "object_fit": null,
            "grid_auto_columns": null,
            "margin": null,
            "display": null,
            "left": null
          }
        },
        "2a0f538c90614646ad82406df5ed865f": {
          "model_module": "@jupyter-widgets/controls",
          "model_name": "SliderStyleModel",
          "state": {
            "_view_name": "StyleView",
            "handle_color": null,
            "_model_name": "SliderStyleModel",
            "description_width": "",
            "_view_module": "@jupyter-widgets/base",
            "_model_module_version": "1.5.0",
            "_view_count": null,
            "_view_module_version": "1.2.0",
            "_model_module": "@jupyter-widgets/controls"
          }
        },
        "c89d55dbc70142cf84dc715d8601f246": {
          "model_module": "@jupyter-widgets/base",
          "model_name": "LayoutModel",
          "state": {
            "_view_name": "LayoutView",
            "grid_template_rows": null,
            "right": null,
            "justify_content": null,
            "_view_module": "@jupyter-widgets/base",
            "overflow": null,
            "_model_module_version": "1.2.0",
            "_view_count": null,
            "flex_flow": null,
            "width": null,
            "min_width": null,
            "border": null,
            "align_items": null,
            "bottom": null,
            "_model_module": "@jupyter-widgets/base",
            "top": null,
            "grid_column": null,
            "overflow_y": null,
            "overflow_x": null,
            "grid_auto_flow": null,
            "grid_area": null,
            "grid_template_columns": null,
            "flex": null,
            "_model_name": "LayoutModel",
            "justify_items": null,
            "grid_row": null,
            "max_height": null,
            "align_content": null,
            "visibility": null,
            "align_self": null,
            "height": null,
            "min_height": null,
            "padding": null,
            "grid_auto_rows": null,
            "grid_gap": null,
            "max_width": null,
            "order": null,
            "_view_module_version": "1.2.0",
            "grid_template_areas": null,
            "object_position": null,
            "object_fit": null,
            "grid_auto_columns": null,
            "margin": null,
            "display": null,
            "left": null
          }
        },
        "76b5b60d305a4ab4b5e6389fb2f2c442": {
          "model_module": "@jupyter-widgets/controls",
          "model_name": "SliderStyleModel",
          "state": {
            "_view_name": "StyleView",
            "handle_color": null,
            "_model_name": "SliderStyleModel",
            "description_width": "",
            "_view_module": "@jupyter-widgets/base",
            "_model_module_version": "1.5.0",
            "_view_count": null,
            "_view_module_version": "1.2.0",
            "_model_module": "@jupyter-widgets/controls"
          }
        },
        "cd6390b8a280471aa68dfc18124ad80c": {
          "model_module": "@jupyter-widgets/base",
          "model_name": "LayoutModel",
          "state": {
            "_view_name": "LayoutView",
            "grid_template_rows": null,
            "right": null,
            "justify_content": null,
            "_view_module": "@jupyter-widgets/base",
            "overflow": null,
            "_model_module_version": "1.2.0",
            "_view_count": null,
            "flex_flow": null,
            "width": null,
            "min_width": null,
            "border": null,
            "align_items": null,
            "bottom": null,
            "_model_module": "@jupyter-widgets/base",
            "top": null,
            "grid_column": null,
            "overflow_y": null,
            "overflow_x": null,
            "grid_auto_flow": null,
            "grid_area": null,
            "grid_template_columns": null,
            "flex": null,
            "_model_name": "LayoutModel",
            "justify_items": null,
            "grid_row": null,
            "max_height": null,
            "align_content": null,
            "visibility": null,
            "align_self": null,
            "height": null,
            "min_height": null,
            "padding": null,
            "grid_auto_rows": null,
            "grid_gap": null,
            "max_width": null,
            "order": null,
            "_view_module_version": "1.2.0",
            "grid_template_areas": null,
            "object_position": null,
            "object_fit": null,
            "grid_auto_columns": null,
            "margin": null,
            "display": null,
            "left": null
          }
        },
        "a96217ddf4df4b8f9b0b55aad7fa8bde": {
          "model_module": "@jupyter-widgets/base",
          "model_name": "LayoutModel",
          "state": {
            "_view_name": "LayoutView",
            "grid_template_rows": null,
            "right": null,
            "justify_content": null,
            "_view_module": "@jupyter-widgets/base",
            "overflow": null,
            "_model_module_version": "1.2.0",
            "_view_count": null,
            "flex_flow": null,
            "width": null,
            "min_width": null,
            "border": null,
            "align_items": null,
            "bottom": null,
            "_model_module": "@jupyter-widgets/base",
            "top": null,
            "grid_column": null,
            "overflow_y": null,
            "overflow_x": null,
            "grid_auto_flow": null,
            "grid_area": null,
            "grid_template_columns": null,
            "flex": null,
            "_model_name": "LayoutModel",
            "justify_items": null,
            "grid_row": null,
            "max_height": null,
            "align_content": null,
            "visibility": null,
            "align_self": null,
            "height": null,
            "min_height": null,
            "padding": null,
            "grid_auto_rows": null,
            "grid_gap": null,
            "max_width": null,
            "order": null,
            "_view_module_version": "1.2.0",
            "grid_template_areas": null,
            "object_position": null,
            "object_fit": null,
            "grid_auto_columns": null,
            "margin": null,
            "display": null,
            "left": null
          }
        }
      }
    }
  },
  "cells": [
    {
      "cell_type": "markdown",
      "metadata": {
        "id": "b5c5ca7f"
      },
      "source": [
        "# Control Theory : Week 1"
      ],
      "id": "b5c5ca7f"
    },
    {
      "cell_type": "markdown",
      "metadata": {
        "id": "8983adae"
      },
      "source": [
        "Note: This module for controls has been divided into day-wise sections to help you follow the material timely. This document primarily aims to consolidate key ideas and definitions that can serve as a handy guide while you study controls. Many external learning resources have been referenced and are highly recommended to gain a thorough understanding of the topic. \n",
        "\n",
        "Let's begin!"
      ],
      "id": "8983adae"
    },
    {
      "cell_type": "markdown",
      "metadata": {
        "id": "61a2b322"
      },
      "source": [
        "## Day 1\n",
        "\n",
        "### Introduction\n",
        "\n",
        "Have you ever tried balancing a pencil on the end of your finger? Maybe the first few times it falls off. But with some practice you can balance it like a pro. It definitely takes a good deal of muscle control to balance a pencil. Even the slightest vibration could tip it over. \n",
        "\n",
        "This seemingly mundane example tells us several key ideas about control that extend to almost every engineering discipline. We seek to maintain the state of a particular system by controlling it while there are opposing factors that seek to destabilise the system. Many devices which seem to work like a charm require a good amount of control in the background for them to function properly. Control systems ensure that unpredictable disturbances or noise do not jeopardise their functioning while also maintaining optimal resource usage and stability.\n",
        "\n",
        "If you don’t want your systems to go out of control, this is the place to understand the key ideas behind controlling!"
      ],
      "id": "61a2b322"
    },
    {
      "cell_type": "markdown",
      "metadata": {
        "id": "c9d33906"
      },
      "source": [
        "Visit the [Control Theory wiki](https://en.wikipedia.org/wiki/Control_theory) for a more technical description of the field"
      ],
      "id": "c9d33906"
    },
    {
      "cell_type": "markdown",
      "metadata": {
        "id": "11eee581"
      },
      "source": [
        "These are motivational videos to get you psyched for what’s about to come and to expose you to the multitude of disciplines that control theory applies to"
      ],
      "id": "11eee581"
    },
    {
      "cell_type": "code",
      "metadata": {
        "id": "9423205e",
        "outputId": "98301d6d-53db-4080-a4c8-c2bebc070980"
      },
      "source": [
        "%%HTML\n",
        "<iframe width=\"560\" height=\"315\" src=\"https://www.youtube.com/embed/oBc_BHxw78s\" title=\"YouTube video player\" frameborder=\"0\" allow=\"accelerometer; autoplay; clipboard-write; encrypted-media; gyroscope; picture-in-picture\" allowfullscreen></iframe>\n",
        "<iframe width=\"560\" height=\"315\" src=\"https://www.youtube.com/embed/Pi7l8mMjYVE\" title=\"YouTube video player\" frameborder=\"0\" allow=\"accelerometer; autoplay; clipboard-write; encrypted-media; gyroscope; picture-in-picture\" allowfullscreen></iframe>"
      ],
      "id": "9423205e",
      "execution_count": null,
      "outputs": [
        {
          "output_type": "display_data",
          "data": {
            "text/html": [
              "<iframe width=\"560\" height=\"315\" src=\"https://www.youtube.com/embed/oBc_BHxw78s\" title=\"YouTube video player\" frameborder=\"0\" allow=\"accelerometer; autoplay; clipboard-write; encrypted-media; gyroscope; picture-in-picture\" allowfullscreen></iframe>\n",
              "<iframe width=\"560\" height=\"315\" src=\"https://www.youtube.com/embed/Pi7l8mMjYVE\" title=\"YouTube video player\" frameborder=\"0\" allow=\"accelerometer; autoplay; clipboard-write; encrypted-media; gyroscope; picture-in-picture\" allowfullscreen></iframe>\n"
            ],
            "text/plain": [
              "<IPython.core.display.HTML object>"
            ]
          },
          "metadata": {
            "tags": []
          }
        }
      ]
    },
    {
      "cell_type": "markdown",
      "metadata": {
        "id": "aefcc3d0"
      },
      "source": [
        "Now that you're all excited to learn control theory let's begin!"
      ],
      "id": "aefcc3d0"
    },
    {
      "cell_type": "markdown",
      "metadata": {
        "id": "df05911b"
      },
      "source": [
        "### Overview\n",
        "\n",
        "This week we will learn about:\n",
        "*\tControl Systems - their basic components, types and features\n",
        "*\tMathematical modelling of control systems - Differential equations and Transfer functions\n",
        "*\tStability and Controllability\n",
        "*\tIntroduction to PID Control\n"
      ],
      "id": "df05911b"
    },
    {
      "cell_type": "markdown",
      "metadata": {
        "id": "968b7a07"
      },
      "source": [
        "### Control systems - the basic definitions\n",
        " \n",
        "\n",
        "- **Control system** - A collection of components that are collectively responsible for bringing the output of the system to the one desired by the input. (Note that a control system *contains* a controller, and is not the same thing)\n",
        "\n",
        "![Img_1](https://drive.google.com/uc?id=1-AfNIYgwia31gY8wpXv03i8eV-h_TJS9)\n",
        "\n",
        "- The **input** consists of instructions and measurements of parameters that dictate what the desired output should be. \n",
        "\n",
        "- The **output** consists of a set of variables that describe the features of the system, collectively referred to as the state of the system. The state of a system is generally represented by $x$ .\n",
        "\n",
        "  For example — In a car, the input could be the instructions to a driver while the output could be the position and velocity of a car.\n",
        "\n",
        "A control system typically consists of the following components - \n",
        "\n",
        "- **Plant** — The part of the control system that is being controlled. It consists of the actuator, which executes the control command, and the process which responds to the actuation and undergoes a time evolution. In many cases, the plant could be a dynamic system like a car or a pendulum.\n",
        "\n",
        "- **Controller** — The part of the control system that provides control commands to the plant so that the state gets driven to the desired one. The control command is generally represented by $u$ .\n",
        "\n",
        "- **Sensors** — The part of the control system that takes an observation/measurement of the state completely or partially. The sensor observation is generally represented by $y$ .\n",
        "\n",
        "Looking at a car in more detail we might realise that the driver acts as a controller and the car as a plant. The speedometer serves as a sensor that guides the driver to press the accelerator more or less to achieve a particular speed. The interesting thing we notice here is that the sensor gives **feedback** to the driver about what action to perform. This brings us to the next topic, open and closed loop control."
      ],
      "id": "968b7a07"
    },
    {
      "cell_type": "markdown",
      "metadata": {
        "id": "9d27194a"
      },
      "source": [
        "## Day 2\n",
        "\n",
        "### Types of control systems\n",
        "\n",
        "1) Based on Feedback\n",
        "\n",
        "- **Open Loop control systems** - Applying control commands without taking any measurements of the output\n",
        "  \n",
        "In the above example, if the driver does not pay attention to the speedometer or traffic and presses the accelerator regardless of it, the system displays open loop control. The output - speed, does not affect the control command - pressing the acclerator. The inputs to the controller - the driver, are from his mind and are unaffected by the sensory information from the surroundings.\n",
        "  \n",
        "Then it becomes quite obvious why such a system is problematic. It can not handle uncertainities like change in the speed limit and vehicles or pedestrians nearby and will give an undesirable output in such situations. However, if the traffic conditions are exactly known beforehand, the driver could just memorise a predefined sequence of accelerator presses and still manage to safely drive the car. We can immediately see that this is a rather artificial example and for any car to function correctly the controller needs feedback from its environment.\n"
      ],
      "id": "9d27194a"
    },
    {
      "cell_type": "markdown",
      "metadata": {
        "id": "2066dd3b"
      },
      "source": [
        "![W1_2](https://drive.google.com/uc?id=1WmC7J_nxpn2VpDzNsvP6kW8SL42E-drd)"
      ],
      "id": "2066dd3b"
    },
    {
      "cell_type": "markdown",
      "metadata": {
        "id": "c8fe7bd3"
      },
      "source": [
        "- **Closed Loop control systems/ Feedback control systems**- Applying control commands based on the measurements of the output with the help of a controller\n",
        "\n",
        "The outputs are measured by a sensor which **feeds back** this information to the controller. The error shown in the diagram below is the difference between the desired output (which is given as an instruction in the input) and the current output. The measured error is used by the controller to act in a manner that causes the error to decrease. Once the input and feedback match the error is zero.\n",
        "\n",
        "By taking note of the speedometer and the surrounding traffic the driver can now correct his action so that the car continues to perform desirably. The exact nature of this corrective response is called the **control law** and will be a key topic of discussion in upcoming sections.\n"
      ],
      "id": "c8fe7bd3"
    },
    {
      "cell_type": "markdown",
      "metadata": {
        "id": "c9f5f9a2"
      },
      "source": [
        "![W1_3](https://drive.google.com/uc?id=1nMbWtzWlEDVgfOYW75mNkmCfoV_fUshU)"
      ],
      "id": "c9f5f9a2"
    },
    {
      "cell_type": "markdown",
      "metadata": {
        "id": "c17c3709"
      },
      "source": [
        "Thus, we see that closed loop control offers distinct advantages over open loop control, such as - \n",
        "\n",
        "*\tGreater resistance to noise/bias/disturbances to the system\n",
        "*\tEfficient energy consumption\n",
        "*\tAlter the dynamic properties of the overall system\n",
        "\n",
        "To get a good grasp on the concept of feedback in closed loop control watch the following video"
      ],
      "id": "c17c3709"
    },
    {
      "cell_type": "code",
      "metadata": {
        "id": "e86a529f",
        "outputId": "e54c269c-fefe-46c6-f423-1e321c7b720b"
      },
      "source": [
        "%%HTML\n",
        "<iframe width=\"560\" height=\"315\" src=\"https://www.youtube.com/embed/O-OqgFE9SD4\" title=\"YouTube video player\" frameborder=\"0\" allow=\"accelerometer; autoplay; clipboard-write; encrypted-media; gyroscope; picture-in-picture\" allowfullscreen></iframe>"
      ],
      "id": "e86a529f",
      "execution_count": null,
      "outputs": [
        {
          "output_type": "display_data",
          "data": {
            "text/html": [
              "<iframe width=\"560\" height=\"315\" src=\"https://www.youtube.com/embed/O-OqgFE9SD4\" title=\"YouTube video player\" frameborder=\"0\" allow=\"accelerometer; autoplay; clipboard-write; encrypted-media; gyroscope; picture-in-picture\" allowfullscreen></iframe>\n"
            ],
            "text/plain": [
              "<IPython.core.display.HTML object>"
            ]
          },
          "metadata": {
            "tags": []
          }
        }
      ]
    },
    {
      "cell_type": "markdown",
      "metadata": {
        "id": "fff8b4c0"
      },
      "source": [
        "[Optional reading for more examples and definitions](https://www.tutorialspoint.com/control_systems/control_systems_introduction.htm)"
      ],
      "id": "fff8b4c0"
    },
    {
      "cell_type": "markdown",
      "metadata": {
        "id": "02d7ce85"
      },
      "source": [
        "2) Based on energy expenditure\n",
        "\n",
        "- **Passive control** — It involves minimal to no energy expenditure to impose desired behaviour. <br>\n",
        "  Example - streamlined shapes of vehicles\n",
        "\n",
        "\n",
        "- **Active control** — It involves greater energy expenditure for desired behaviour. <br>\n",
        "  Example — externally oscillating the base of an inverted pendulum to keep it stable"
      ],
      "id": "02d7ce85"
    },
    {
      "cell_type": "markdown",
      "metadata": {
        "id": "52ddc5e1"
      },
      "source": [
        "### Linear and Nonlinear systems\n",
        "\n",
        "- **Linear systems** — Systems where the evolution of the state of the system is related linearly with the state. An example is radioactive decay.\n",
        "\n",
        "$$\\dot x = Ax$$\n",
        "\n",
        "In a more general context, systems in which the output depends linearly on the input (satisfies properties of scaling and linear combination) are also described as linear systems. These systems can be represented using [linear differential equations](https://en.wikipedia.org/wiki/Linear_differential_equation).\n",
        "\n",
        "- **Nonlinear systems** — Systems where the evolution of state is not related linearly with the state.\n",
        "An example is a simple pendulum in a gravitational field.\n",
        "\n",
        "$$ \\dot x = f(x) $$\n",
        "\n",
        "Many nonlinear systems can be treated as linear systems approximately around certain states\n",
        "(called fixed points, where $\\dot x=0$), through **local linearization**, which will be explored in the upcoming weeks.\n",
        "\n",
        "Linear and Time-invariant (LTI) systems are important because they are 'nice' to deal with and a broad class of problems can be approximated using such systems. For a good understanding of these we recommend watching the following videos"
      ],
      "id": "52ddc5e1"
    },
    {
      "cell_type": "code",
      "metadata": {
        "id": "9d55d9a1",
        "outputId": "fbad3c11-1859-45ee-ba13-fab353771eb6"
      },
      "source": [
        "%%HTML\n",
        "<iframe width=\"560\" height=\"315\" src=\"https://www.youtube.com/embed/3eDDTFcSC_Y\" title=\"YouTube video player\" frameborder=\"0\" allow=\"accelerometer; autoplay; clipboard-write; encrypted-media; gyroscope; picture-in-picture\" allowfullscreen></iframe>\n",
        "<iframe width=\"560\" height=\"315\" src=\"https://www.youtube.com/embed/nyqJJdhReiA\" title=\"YouTube video player\" frameborder=\"0\" allow=\"accelerometer; autoplay; clipboard-write; encrypted-media; gyroscope; picture-in-picture\" allowfullscreen></iframe>"
      ],
      "id": "9d55d9a1",
      "execution_count": null,
      "outputs": [
        {
          "output_type": "display_data",
          "data": {
            "text/html": [
              "<iframe width=\"560\" height=\"315\" src=\"https://www.youtube.com/embed/3eDDTFcSC_Y\" title=\"YouTube video player\" frameborder=\"0\" allow=\"accelerometer; autoplay; clipboard-write; encrypted-media; gyroscope; picture-in-picture\" allowfullscreen></iframe>\n",
              "<iframe width=\"560\" height=\"315\" src=\"https://www.youtube.com/embed/nyqJJdhReiA\" title=\"YouTube video player\" frameborder=\"0\" allow=\"accelerometer; autoplay; clipboard-write; encrypted-media; gyroscope; picture-in-picture\" allowfullscreen></iframe>\n"
            ],
            "text/plain": [
              "<IPython.core.display.HTML object>"
            ]
          },
          "metadata": {
            "tags": []
          }
        }
      ]
    },
    {
      "cell_type": "markdown",
      "metadata": {
        "id": "587b6c61"
      },
      "source": [
        "\n",
        "### Continuous and discrete-time systems\n",
        "\n",
        "- **Continuous-time systems** — Systems where the evolution of the state is considered for any time. <br> \n",
        "  Example - $$\\dot x = Ax$$\n",
        "\n",
        "- **Discrete-time systems** — Systems where the evolution of the state is considered only at discrete time steps. <br>\n",
        "  Example - (Discrete-time, linear system)  $$ x_{k + 1} = \\tilde Ax_{k}$$ \n",
        "  Each time step $k$ is separated  $\\Delta t >=\\epsilon > 0$\n",
        "\n"
      ],
      "id": "587b6c61"
    },
    {
      "cell_type": "markdown",
      "metadata": {
        "id": "b6579d09"
      },
      "source": [
        "## Day 3 & 4\n",
        "\n",
        "### Mathematical modelling of Control Systems\n",
        "\n",
        "Control Systems are typically represented by IVPs and Laplace Transforms make their analysis much simpler (Recall MA111)\n",
        "\n",
        "The output $x(t)$ of a system is dependent on the input to the plant which is also the output of the controller. The controller output depends on the input instructions to the controller, represented by $u(t)$. These instructions can be dependent on the value of the output (in closed loop control) or independent of it (in open loop control).\n",
        "\n",
        "A **linear system** can be represented by a linear differential equation in $x$ and $u$.<br>\n",
        "For example - $m \\ddot x + b \\dot x + kx = u(t)$ represents forced oscillations of damped spring-block system that you all must be familiar with. In this case, the output $x$ is the position of the block and the input $u$ is the force acting on it. \n",
        "\n",
        "In particular, this system is also time-invariant if the mass m, damping constant b and spring constant k are constant with respect to time. Thus constant coefficient differential equations can be used to represent **LTI systems**.\n",
        "\n",
        "In general an LTI system can be represented by differential equations of the form\n",
        "$a_n x^{(n)}(t) + a_{n-1} x^{(n-1)}(t) + ... + a_1 x(t) = b_n u^{(n)}(t) + b_{n-1} u^{(n-1)}(t) + ... + b_1 u(t)$\n",
        "\n",
        "taking the Laplace transform of both sides **initial conditions for x to be zero** we get\n",
        "$D(s)X(s) = N(s)U(s)$<br>\n",
        "$X(s) = \\frac{N(s)}{D(s)} U(s) = G(s) U(s)$\n",
        "\n",
        "This equation is very powerful because it allows us to find the output $x$ for any input $u$ easily if we know the **transfer function** $G(s)$ which is a characteristic of the control system.\n",
        "\n",
        "In particular, if the input $u(t) = \\delta (t)$, the dirac delta/impulse function, then $\\mathfrak L\\{u(t)\\} = U(s) = 1$.\n",
        "This means $X(s) = G(s)$. Thus, the transfer function $G(s)$ can then also be defined as the Laplace Transform of the output for an impulse function as input. $g(t)$ is called the **impulse response** of the control system.\n",
        "\n",
        "A multiplication in the frequency domain is a convolution in the time domain. Hence, $X(s) = G(s)U(s)$ is equivalent to $x(t) = g(t)*u(t)$\n",
        "\n",
        "For an intuitive understanding of the connection between the time domain and the frequency domain watch the following video"
      ],
      "id": "b6579d09"
    },
    {
      "cell_type": "code",
      "metadata": {
        "id": "bd7e56ae",
        "outputId": "ab7d8bdc-81eb-4e4f-feeb-c438ddb7924c"
      },
      "source": [
        "%%HTML\n",
        "<iframe width=\"560\" height=\"315\" src=\"https://www.youtube.com/embed/noycLIZbK_k\" title=\"YouTube video player\" frameborder=\"0\" allow=\"accelerometer; autoplay; clipboard-write; encrypted-media; gyroscope; picture-in-picture\" allowfullscreen></iframe>"
      ],
      "id": "bd7e56ae",
      "execution_count": null,
      "outputs": [
        {
          "output_type": "display_data",
          "data": {
            "text/html": [
              "<iframe width=\"560\" height=\"315\" src=\"https://www.youtube.com/embed/noycLIZbK_k\" title=\"YouTube video player\" frameborder=\"0\" allow=\"accelerometer; autoplay; clipboard-write; encrypted-media; gyroscope; picture-in-picture\" allowfullscreen></iframe>\n"
            ],
            "text/plain": [
              "<IPython.core.display.HTML object>"
            ]
          },
          "metadata": {
            "tags": []
          }
        }
      ]
    },
    {
      "cell_type": "markdown",
      "metadata": {
        "id": "cef61ca0"
      },
      "source": [
        "Elaborating on the above discussion on transfer functions, watch the following videos"
      ],
      "id": "cef61ca0"
    },
    {
      "cell_type": "code",
      "metadata": {
        "id": "3facad12",
        "outputId": "f636d1cb-3222-4a84-abce-4589de9baaf8"
      },
      "source": [
        "%%HTML\n",
        "<iframe width=\"560\" height=\"315\" src=\"https://www.youtube.com/embed/RJleGwXorUk\" title=\"YouTube video player\" frameborder=\"0\" allow=\"accelerometer; autoplay; clipboard-write; encrypted-media; gyroscope; picture-in-picture\" allowfullscreen></iframe>\n",
        "<iframe width=\"560\" height=\"315\" src=\"https://www.youtube.com/embed/ZGPtPkTft8g\" title=\"YouTube video player\" frameborder=\"0\" allow=\"accelerometer; autoplay; clipboard-write; encrypted-media; gyroscope; picture-in-picture\" allowfullscreen></iframe>\n",
        "<iframe width=\"560\" height=\"315\" src=\"https://www.youtube.com/embed/0mnTByVKqLM\" title=\"YouTube video player\" frameborder=\"0\" allow=\"accelerometer; autoplay; clipboard-write; encrypted-media; gyroscope; picture-in-picture\" allowfullscreen></iframe>"
      ],
      "id": "3facad12",
      "execution_count": null,
      "outputs": [
        {
          "output_type": "display_data",
          "data": {
            "text/html": [
              "<iframe width=\"560\" height=\"315\" src=\"https://www.youtube.com/embed/RJleGwXorUk\" title=\"YouTube video player\" frameborder=\"0\" allow=\"accelerometer; autoplay; clipboard-write; encrypted-media; gyroscope; picture-in-picture\" allowfullscreen></iframe>\n",
              "<iframe width=\"560\" height=\"315\" src=\"https://www.youtube.com/embed/ZGPtPkTft8g\" title=\"YouTube video player\" frameborder=\"0\" allow=\"accelerometer; autoplay; clipboard-write; encrypted-media; gyroscope; picture-in-picture\" allowfullscreen></iframe>\n",
              "<iframe width=\"560\" height=\"315\" src=\"https://www.youtube.com/embed/0mnTByVKqLM\" title=\"YouTube video player\" frameborder=\"0\" allow=\"accelerometer; autoplay; clipboard-write; encrypted-media; gyroscope; picture-in-picture\" allowfullscreen></iframe>\n"
            ],
            "text/plain": [
              "<IPython.core.display.HTML object>"
            ]
          },
          "metadata": {
            "tags": []
          }
        }
      ]
    },
    {
      "cell_type": "markdown",
      "metadata": {
        "id": "d8a38d4e"
      },
      "source": [
        "While defining the transfer function we wrote $G(s) = \\frac{N(s)}{D(s)}$ where $N(s)$ and $D(s)$ are polynomials in $s$. The values of $s$ for which the numerator $N(s)$ goes to zero are called **roots** of the transfer function. The values of $s$ for which the denominator $D(s)$ goes to zero are called **poles** of the transfer function.  \n",
        "\n",
        "\n",
        "Going back to the example of a spring attached to the wall, setting the initial conditions $x(0)=0, \\dot x(0) =0$  gives the frequency domain representation\n",
        "  $ X(s) = \\frac{1}{ms^2+bs+k} U(s) $ \n",
        "  \n",
        "Here, $G(s) = \\frac{1}{ms^2+bs+k}$ is the transfer function. While it has no zeros, it has two poles who's values depend on $m$,$b$ and $k$.\n",
        "\n",
        "Poles and zeros of a system are easily analysed on the s-plane. For a visual representation of poles and zeros watch the following videos\n",
        "\n",
        "\n",
        "[Laplace Transform and the Transfer function](https://www.youtube.com/watch?v=0mnTByVKqLM)\n",
        "[Zeros and Poles of a Transfer function](https://www.youtube.com/watch?v=AZ7_MvANy_Q)\n"
      ],
      "id": "d8a38d4e"
    },
    {
      "cell_type": "code",
      "metadata": {
        "id": "a621e026",
        "outputId": "884ca71b-2559-4697-b575-232c916d1c8f"
      },
      "source": [
        "%%HTML\n",
        "<iframe width=\"560\" height=\"315\" src=\"https://www.youtube.com/embed/n2y7n6jw5d0\" title=\"YouTube video player\" frameborder=\"0\" allow=\"accelerometer; autoplay; clipboard-write; encrypted-media; gyroscope; picture-in-picture\" allowfullscreen></iframe>"
      ],
      "id": "a621e026",
      "execution_count": null,
      "outputs": [
        {
          "output_type": "display_data",
          "data": {
            "text/html": [
              "<iframe width=\"560\" height=\"315\" src=\"https://www.youtube.com/embed/n2y7n6jw5d0\" title=\"YouTube video player\" frameborder=\"0\" allow=\"accelerometer; autoplay; clipboard-write; encrypted-media; gyroscope; picture-in-picture\" allowfullscreen></iframe>\n"
            ],
            "text/plain": [
              "<IPython.core.display.HTML object>"
            ]
          },
          "metadata": {
            "tags": []
          }
        }
      ]
    },
    {
      "cell_type": "markdown",
      "metadata": {
        "id": "60a9cb5f"
      },
      "source": [
        "## Day 5 & 6\n",
        "\n",
        "### Stability of Linear systems\n",
        "\n",
        "Now we're entering dangerous territory. Just kidding. Now you will get to see how these mathematical tools can be used to analyse practical considerations for building control systems, in particular linear systems, since they are so muc easier to deal with.\n",
        "\n",
        "**Evolution of a continuous-time linear system**\n",
        "\n",
        "(using the notation introduced in Steve Brunton's video on Linear systems)\n",
        "\n",
        " $$ \\dot x = Ax $$\n",
        " $$ \\Rightarrow x(t) = e^{At} x(0) $$\n",
        " $$ e^{At} = \\sum_{n=1}^\\infty \\frac{A^nt^n}{n!} $$\n",
        "\n",
        "If $A$  can be represented as $V\\Lambda V^{-1}$  where V is the eigenvector matrix and $\\Lambda$ is the matrix of eigenvalues (these are also the poles of the system transfer function, hence their importance!), then\n",
        "$$ e^{At} = V e^{\\Lambda t} V^{-1} $$\n",
        "$ \\Rightarrow x_i(t) = e^{\\lambda_i t} x_i(0)$ where $x_i$   is an individual component of the state vector and $\\lambda_i$  is the corresponding eigenvalue. Thus, the different components get decoupled from each other.\n",
        "\n",
        "**Condition for stability**\n",
        "\n",
        "In continuous-time,\n",
        "\n",
        " $\\forall i, \\quad Re(\\lambda_i) <=0 \\Rightarrow $ Stable\n",
        " \n",
        "  $\\exists i \\quad s.t \\quad  Re(\\lambda_i) > 0 \\Rightarrow$ Unstable\n",
        "\n",
        "Using a suitable controller in certain systems can help alter the eigenvalues/poles of the system, thus altering the stability of various states. This is the main idea behind **pole placement**, which will be seen later.\n",
        "\n",
        "This is just a brief summary of what is covered in the following video"
      ],
      "id": "60a9cb5f"
    },
    {
      "cell_type": "code",
      "metadata": {
        "id": "3bf3b1a3",
        "outputId": "54669242-7ef7-4ade-e2ba-7e1712115ba9"
      },
      "source": [
        "%%HTML\n",
        "<iframe width=\"560\" height=\"315\" src=\"https://www.youtube.com/embed/h7nJ6ZL4Lf0\" title=\"YouTube video player\" frameborder=\"0\" allow=\"accelerometer; autoplay; clipboard-write; encrypted-media; gyroscope; picture-in-picture\" allowfullscreen></iframe>"
      ],
      "id": "3bf3b1a3",
      "execution_count": null,
      "outputs": [
        {
          "output_type": "display_data",
          "data": {
            "text/html": [
              "<iframe width=\"560\" height=\"315\" src=\"https://www.youtube.com/embed/h7nJ6ZL4Lf0\" title=\"YouTube video player\" frameborder=\"0\" allow=\"accelerometer; autoplay; clipboard-write; encrypted-media; gyroscope; picture-in-picture\" allowfullscreen></iframe>\n"
            ],
            "text/plain": [
              "<IPython.core.display.HTML object>"
            ]
          },
          "metadata": {
            "tags": []
          }
        }
      ]
    },
    {
      "cell_type": "markdown",
      "metadata": {
        "id": "ff824ab0"
      },
      "source": [
        "### Controllability of systems\n",
        "\n",
        "**Controllability** — It is the property of a system where it is possible to access any state in the state space with a suitable controller (reachability / reachable set  $ R_t =\\mathbb{R}^n $ from any given initial state in a finite time. \n",
        "In many cases, this implies that the eigenvalues of the system can be set to any arbitrary value (**arbitrary pole placement** in the context of transfer functions)\n",
        "\n",
        "**Stabilizability** — It is the property of a system in which the unstable eigenvector directions are controllable (lie in the controllable subspace).\n",
        "\n",
        "**Dynamics of a linear system in the presence of a controller**\n",
        "\n",
        "$$ \\dot x = Ax + Bu $$ where $Bu$ is the controller term\n",
        "\n",
        "**Test for controllability of a system**\n",
        "\n",
        "Controllability matrix, $C = \\begin{bmatrix} B & AB & A^2B & A^3B & ... & A^{n-1}B \\end{bmatrix} $\n",
        "\n",
        "$n$ is the state space dimension\n",
        " \n",
        "System is controllable  $\\iff$ C is full rank.\n",
        "\n",
        "**Example** - \n",
        "\n",
        "  $ A = \\begin{bmatrix} 1 & 1 \\\\ 0 & 2 \\end{bmatrix} $\n",
        "  $ B = \\begin{bmatrix} 0 \\\\ 1 \\\\ \\end{bmatrix}$\n",
        "  \n",
        "  $ C = \\begin{bmatrix} B & AB \\end{bmatrix} = \\begin{bmatrix} 0 & 1 \\\\ 1 & 2 \\end{bmatrix}$\n",
        "\n",
        "rank(C) = 2, so the system is controllable.\n",
        "\n",
        "To know more about stability, controllability, reachability, and other ideas, refer to the following\n",
        "\n",
        "[Difference between controllability and reachability](https://math.stackexchange.com/questions/3030305/what-is-the-difference-between-controllability-and-reachability)\n",
        "\n",
        "[Reachability and Controllability](http://www.dii.unimo.it/~zanasi/didattica/Teoria_dei_Sistemi/Luc_TDS_ING_2016_Reachability_and_Controllability.pdf)\n",
        "\n",
        "Since these topics are quite math intensive, you might find the following videos useful\n",
        "\n",
        "(Watch Steve Brunton videos from 4 to 11, the previous ones have already been covered above)"
      ],
      "id": "ff824ab0"
    },
    {
      "cell_type": "code",
      "metadata": {
        "id": "b1b1dd59",
        "outputId": "ce20a91d-61e7-4010-b6a1-865228e3aa27"
      },
      "source": [
        "%%HTML\n",
        "<iframe width=\"560\" height=\"315\" src=\"https://www.youtube.com/embed/kkbq3pDf8UE\" title=\"YouTube video player\" frameborder=\"0\" allow=\"accelerometer; autoplay; clipboard-write; encrypted-media; gyroscope; picture-in-picture\" allowfullscreen></iframe>\n",
        "<iframe width=\"560\" height=\"315\" src=\"https://www.youtube.com/embed/videoseries?list=PLMrJAkhIeNNR20Mz-VpzgfQs5zrYi085m\" title=\"YouTube video player\" frameborder=\"0\" allow=\"accelerometer; autoplay; clipboard-write; encrypted-media; gyroscope; picture-in-picture\" allowfullscreen></iframe>"
      ],
      "id": "b1b1dd59",
      "execution_count": null,
      "outputs": [
        {
          "output_type": "display_data",
          "data": {
            "text/html": [
              "<iframe width=\"560\" height=\"315\" src=\"https://www.youtube.com/embed/kkbq3pDf8UE\" title=\"YouTube video player\" frameborder=\"0\" allow=\"accelerometer; autoplay; clipboard-write; encrypted-media; gyroscope; picture-in-picture\" allowfullscreen></iframe>\n",
              "<iframe width=\"560\" height=\"315\" src=\"https://www.youtube.com/embed/videoseries?list=PLMrJAkhIeNNR20Mz-VpzgfQs5zrYi085m\" title=\"YouTube video player\" frameborder=\"0\" allow=\"accelerometer; autoplay; clipboard-write; encrypted-media; gyroscope; picture-in-picture\" allowfullscreen></iframe>\n"
            ],
            "text/plain": [
              "<IPython.core.display.HTML object>"
            ]
          },
          "metadata": {
            "tags": []
          }
        }
      ]
    },
    {
      "cell_type": "markdown",
      "metadata": {
        "id": "a9faf3a3"
      },
      "source": [
        "## Day 7\n",
        "\n",
        "### Control law\n",
        "\n",
        "**Control law** refers to the relation between the control command and other parameters, such as the state and input. We we're first introduced to this idea while learning about mathematical modelling of control systems. The control law deals with the specifics of the input function $u(t)$ and its dependence on other measurable properties of the state.\n",
        "\n",
        "**Example** -\n",
        "\n",
        "The control law for a **Linear Quadratic Regulator (LQR)**\n",
        "$$u(t)=-K(x(t)-x_0)$$  \n",
        "\n",
        "When $u=-Kx$ is applied to a continuous-time linear system with a controller, the entire system becomes a closed-loop linear system where the dynamics are heavily influenced by the chosen $K$.\n",
        "\n",
        "$ \\dot x = Ax + Bu $\n",
        "$ \\Rightarrow \\dot x = (A-BK)x = \\bar A x $\n",
        " \n",
        "The use of this shall be seen in the upcoming weeks.\n"
      ],
      "id": "a9faf3a3"
    },
    {
      "cell_type": "markdown",
      "metadata": {
        "id": "519f0c10"
      },
      "source": [
        "### PID Control\n",
        "\n",
        "PID stands for Proportional-Integral-Derivative. It is a special type of closed loop control law that is widely used.\n",
        "\n",
        "![W1_4](https://drive.google.com/uc?id=1GjiY2QtGWNFYIzaM6SixQgj4-0o9QVCz)\n",
        "\n",
        "For an introduction to PID Control watch the following videos"
      ],
      "id": "519f0c10"
    },
    {
      "cell_type": "code",
      "metadata": {
        "id": "dd3106e9",
        "outputId": "1b1b5e5f-11a0-4620-f215-effc99903ee3"
      },
      "source": [
        "%%HTML\n",
        "<iframe width=\"560\" height=\"315\" src=\"https://www.youtube.com/embed/UR0hOmjaHp0\" title=\"YouTube video player\" frameborder=\"0\" allow=\"accelerometer; autoplay; clipboard-write; encrypted-media; gyroscope; picture-in-picture\" allowfullscreen></iframe>\n",
        "<iframe width=\"560\" height=\"315\" src=\"https://www.youtube.com/embed/4Y7zG48uHRo\" title=\"YouTube video player\" frameborder=\"0\" allow=\"accelerometer; autoplay; clipboard-write; encrypted-media; gyroscope; picture-in-picture\" allowfullscreen></iframe>"
      ],
      "id": "dd3106e9",
      "execution_count": null,
      "outputs": [
        {
          "output_type": "display_data",
          "data": {
            "text/html": [
              "<iframe width=\"560\" height=\"315\" src=\"https://www.youtube.com/embed/UR0hOmjaHp0\" title=\"YouTube video player\" frameborder=\"0\" allow=\"accelerometer; autoplay; clipboard-write; encrypted-media; gyroscope; picture-in-picture\" allowfullscreen></iframe>\n",
              "<iframe width=\"560\" height=\"315\" src=\"https://www.youtube.com/embed/4Y7zG48uHRo\" title=\"YouTube video player\" frameborder=\"0\" allow=\"accelerometer; autoplay; clipboard-write; encrypted-media; gyroscope; picture-in-picture\" allowfullscreen></iframe>\n"
            ],
            "text/plain": [
              "<IPython.core.display.HTML object>"
            ]
          },
          "metadata": {
            "tags": []
          }
        }
      ]
    },
    {
      "cell_type": "markdown",
      "metadata": {
        "id": "f9c4e677"
      },
      "source": [
        "**Control law for PID controller**  \n",
        "\n",
        "$$ u(t) = K_p e(t) + K_i \\int e(t) dt + K_d e'(t) = K_p(e(t) + \\frac{1}{\\tau_i}\\int e(t) dt + \\tau_d e'(t))$$\n",
        " \n",
        "* $K_p$ is the proportional weight\n",
        "* $K_i$ is the integral weight\n",
        "* $K_d$ is the derivative weight\n",
        "* $\\tau_i$ is the integral time constant\n",
        "* $\\tau_d$ is the derivative time constant\n",
        "\n",
        "\n",
        "\n",
        "**Transfer function representation of the PID control law**\n",
        "\n",
        "$$ \\frac{U(s)}{E(s)} = ( K_p + \\frac{K_i}{s} + K_d s ) $$\n",
        "\n",
        "where $U(s)$ is the Laplace transform of $u(t)$ and $E(s)$ is the Laplace transform of $e(t)$.\n",
        "\n",
        "Note, here $e(t)$ is the measured error between desired state and actual state. $u(t)$ is the **plant input** and also the **controller output**.\n",
        "\n",
        "**Intuition behind the role of different components**\n",
        "\n",
        "* **P (Proportional)** - In many simple situations, proportional control ensures that the desired state (set point) is asymptotically reached from the initial state. It deals with the knowledge of the present error.\n",
        "\n",
        "* **I (Integral)** - Integral control takes into account the past errors and their duration of persistence, thus it plays an important role in reducing steady-state error in many situations. It deals with the knowledge of past errors.\n",
        "\n",
        "* **D (Derivative)** - Derivative control takes into account the rate at which the error is decreasing, thus it plays an important role in preventing possible overshoot due to the integrator. It deals with the knowledge of future error change.\n",
        "\n",
        "**Drawbacks of P**\n",
        "\n",
        "* In the discrete-time version, the state can oscillate around a certain mean state which isn’t the set point.\n",
        "* Not suitable in cases where a certain state needs to be maintained and external forces like gravity are present irrespective of the error.\n",
        "\n",
        "**Drawbacks of I**\n",
        "* The possibility of overshooting the desired state is high.\n",
        "* In the case of actuator saturation, integral wind-up can occur.\n",
        "\n",
        "**Drawbacks of D**\n",
        "* High-frequency noise can make the derivative contribution higher than required.\n",
        "\n",
        "To know more about the features of PID Control and see some simple examples watch the following videos"
      ],
      "id": "f9c4e677"
    },
    {
      "cell_type": "code",
      "metadata": {
        "id": "8f68f7f8",
        "outputId": "af0e79b2-4519-44c4-baa4-316ad27623f3"
      },
      "source": [
        "%%HTML\n",
        "<iframe width=\"560\" height=\"315\" src=\"https://www.youtube.com/embed/videoseries?list=PLn8PRpmsu08pQBgjxYFXSsODEF3Jqmm-y\" title=\"YouTube video player\" frameborder=\"0\" allow=\"accelerometer; autoplay; clipboard-write; encrypted-media; gyroscope; picture-in-picture\" allowfullscreen></iframe>\n",
        "<iframe width=\"560\" height=\"315\" src=\"https://www.youtube.com/embed/JEpWlTl95Tw\" title=\"YouTube video player\" frameborder=\"0\" allow=\"accelerometer; autoplay; clipboard-write; encrypted-media; gyroscope; picture-in-picture\" allowfullscreen></iframe>\n",
        "<iframe width=\"560\" height=\"315\" src=\"https://www.youtube.com/embed/XfAt6hNV8XM\" title=\"YouTube video player\" frameborder=\"0\" allow=\"accelerometer; autoplay; clipboard-write; encrypted-media; gyroscope; picture-in-picture\" allowfullscreen></iframe>"
      ],
      "id": "8f68f7f8",
      "execution_count": null,
      "outputs": [
        {
          "output_type": "display_data",
          "data": {
            "text/html": [
              "<iframe width=\"560\" height=\"315\" src=\"https://www.youtube.com/embed/videoseries?list=PLn8PRpmsu08pQBgjxYFXSsODEF3Jqmm-y\" title=\"YouTube video player\" frameborder=\"0\" allow=\"accelerometer; autoplay; clipboard-write; encrypted-media; gyroscope; picture-in-picture\" allowfullscreen></iframe>\n",
              "<iframe width=\"560\" height=\"315\" src=\"https://www.youtube.com/embed/JEpWlTl95Tw\" title=\"YouTube video player\" frameborder=\"0\" allow=\"accelerometer; autoplay; clipboard-write; encrypted-media; gyroscope; picture-in-picture\" allowfullscreen></iframe>\n",
              "<iframe width=\"560\" height=\"315\" src=\"https://www.youtube.com/embed/XfAt6hNV8XM\" title=\"YouTube video player\" frameborder=\"0\" allow=\"accelerometer; autoplay; clipboard-write; encrypted-media; gyroscope; picture-in-picture\" allowfullscreen></iframe>\n"
            ],
            "text/plain": [
              "<IPython.core.display.HTML object>"
            ]
          },
          "metadata": {
            "tags": []
          }
        }
      ]
    },
    {
      "cell_type": "markdown",
      "metadata": {
        "id": "9cbdbed4"
      },
      "source": [
        "For a physical demonstration of PID control check out this video"
      ],
      "id": "9cbdbed4"
    },
    {
      "cell_type": "code",
      "metadata": {
        "id": "f1c8402e",
        "outputId": "3da72f70-bee1-4093-e49c-2e3afb45273e"
      },
      "source": [
        "%%HTML\n",
        "<iframe width=\"560\" height=\"315\" src=\"https://www.youtube.com/embed/fusr9eTceEo\" title=\"YouTube video player\" frameborder=\"0\" allow=\"accelerometer; autoplay; clipboard-write; encrypted-media; gyroscope; picture-in-picture\" allowfullscreen></iframe>"
      ],
      "id": "f1c8402e",
      "execution_count": null,
      "outputs": [
        {
          "output_type": "display_data",
          "data": {
            "text/html": [
              "<iframe width=\"560\" height=\"315\" src=\"https://www.youtube.com/embed/fusr9eTceEo\" title=\"YouTube video player\" frameborder=\"0\" allow=\"accelerometer; autoplay; clipboard-write; encrypted-media; gyroscope; picture-in-picture\" allowfullscreen></iframe>\n"
            ],
            "text/plain": [
              "<IPython.core.display.HTML object>"
            ]
          },
          "metadata": {
            "tags": []
          }
        }
      ]
    },
    {
      "cell_type": "markdown",
      "metadata": {
        "id": "4ca717ab"
      },
      "source": [
        "\n",
        "\n",
        "## Discrete-time PID Control\n",
        "\n",
        " \n",
        "$$ u(t) = K_p( e(k) + \\frac{1}{\\tau_i}\\sum_{i=0}^k e(k)\\Delta t + \\tau_d \\frac{(e(k) - e(k-1))}{\\Delta t} $$\n",
        "\n",
        "The discrete form of the PID controller is used when sampling frequency ( $\\frac{1}{\\Delta t}$) is much lower compared to the speed of dynamics of the system.\n",
        "This is also one of the forms of PID Control used in most practical situations, especially in programs (spoiler alert!).\n",
        "\n"
      ],
      "id": "4ca717ab"
    },
    {
      "cell_type": "markdown",
      "metadata": {
        "id": "66db7474"
      },
      "source": [
        "## Step response of a PID Controlled System\n",
        "\n",
        "The step response of a system is the output $x$ corresponding to an input $u =$ step function\n",
        "\n",
        "Depending on the values of $K_p,K_i,K_d$ , different output responses can be obtained in a PID Controlled system. \n",
        "\n",
        "Consider an example in which the angular velocity of an object is controlled such that it reaches a certain desired angle (3 radians in this case)\n",
        "The step input is the desired angle, the control command is the angular velocity and the output is the angle. \n",
        "The below figures show some of the different possible step responses for different weight sets.\n",
        "The different responses show the importance of selecting appropriate weights for the different components of the controller. Looking at the step response is one of the ways to begin tuning the PID Controller so that it behaves in the desired manner.\n",
        "\n",
        "\n",
        "\n",
        "\n"
      ],
      "id": "66db7474"
    },
    {
      "cell_type": "markdown",
      "metadata": {
        "id": "5527bfd8"
      },
      "source": [
        "When $ K_p = 0.5, K_i = 2, K_d = 2 $ \n",
        "\n",
        "\n"
      ],
      "id": "5527bfd8"
    },
    {
      "cell_type": "markdown",
      "metadata": {
        "id": "7caa0aa5"
      },
      "source": [
        "![W1_5](https://drive.google.com/uc?id=1FCKHhTjGNvTVK1sdXeiMdnMA1Esusb6a)"
      ],
      "id": "7caa0aa5"
    },
    {
      "cell_type": "markdown",
      "metadata": {
        "id": "0003752a"
      },
      "source": [
        "When $ K_p = 5, K_i = 1, K_d = 2 $"
      ],
      "id": "0003752a"
    },
    {
      "cell_type": "markdown",
      "metadata": {
        "id": "574e58c0"
      },
      "source": [
        "![W1_6](https://drive.google.com/uc?id=1gHgjZLvrCoqO4nTPJtGUQHUQ0um43f2h)"
      ],
      "id": "574e58c0"
    },
    {
      "cell_type": "markdown",
      "metadata": {
        "id": "c065f3dc"
      },
      "source": [
        "However, the question remains. How do we choose appropriate weights so that the controller behaves as desired? This brings us to the idea of **PID Tuning**, which will be discussed next week.\n",
        "\n",
        "In the meantime, here is another great example where PID Control is utilized in a spring-mass-damper system and the step responses in various cases are analyzed. You shall also get a sneak peek into PID Tuning as well.\n",
        "\n",
        "[Introduction: PID Controller Design](https://ctms.engin.umich.edu/CTMS/index.php?example=Introduction&section=ControlPID)\n",
        "\n",
        "To understand the step response better watch the following video"
      ],
      "id": "c065f3dc"
    },
    {
      "cell_type": "code",
      "metadata": {
        "id": "ad1a2588",
        "outputId": "f5b5484d-6541-49ba-d820-adb915284aa4"
      },
      "source": [
        "%%HTML\n",
        "<iframe width=\"560\" height=\"315\" src=\"https://www.youtube.com/embed/USH75nuHV6w\" title=\"YouTube video player\" frameborder=\"0\" allow=\"accelerometer; autoplay; clipboard-write; encrypted-media; gyroscope; picture-in-picture\" allowfullscreen></iframe>"
      ],
      "id": "ad1a2588",
      "execution_count": null,
      "outputs": [
        {
          "output_type": "display_data",
          "data": {
            "text/html": [
              "<iframe width=\"560\" height=\"315\" src=\"https://www.youtube.com/embed/USH75nuHV6w\" title=\"YouTube video player\" frameborder=\"0\" allow=\"accelerometer; autoplay; clipboard-write; encrypted-media; gyroscope; picture-in-picture\" allowfullscreen></iframe>\n"
            ],
            "text/plain": [
              "<IPython.core.display.HTML object>"
            ]
          },
          "metadata": {
            "tags": []
          }
        }
      ]
    },
    {
      "cell_type": "markdown",
      "metadata": {
        "id": "bc4666a5"
      },
      "source": [
        "Before we complete this weeks material, lets do a cool exercise in PID control. You can experiment with different values of PID constants and see how the response of the system changes"
      ],
      "id": "bc4666a5"
    },
    {
      "cell_type": "code",
      "metadata": {
        "id": "d44ba242",
        "colab": {
          "base_uri": "https://localhost:8080/",
          "height": 334,
          "referenced_widgets": [
            "f25c1b24ea8e474084a504ac00c7f747",
            "391c5ee49070432aa76a200106af934d",
            "e05c9112df0a4c4b8151a011bb60ec53",
            "35ff558def704964a3fb74cbee968539",
            "20e4b06c380e48528f7512ee4ef02245",
            "590a87b93fec4b2ab47fa14ced36127a",
            "37c32f24ae76491d96f9055234251324",
            "1259b141846544698de99cd494da4e12",
            "2a0f538c90614646ad82406df5ed865f",
            "c89d55dbc70142cf84dc715d8601f246",
            "76b5b60d305a4ab4b5e6389fb2f2c442",
            "cd6390b8a280471aa68dfc18124ad80c",
            "a96217ddf4df4b8f9b0b55aad7fa8bde"
          ]
        },
        "outputId": "60328f0a-f118-4107-b7db-ebf448b3fef2"
      },
      "source": [
        "import numpy as np\n",
        "import matplotlib.pyplot as plt\n",
        "from scipy.integrate import odeint\n",
        "import ipywidgets as wg\n",
        "\n",
        "n = 1001\n",
        "tf = 1000.0\n",
        "\n",
        "Kp = 0.9\n",
        "tau_p = 175.0\n",
        "theta_p = 15.0\n",
        "\n",
        "def process(y,t,u):\n",
        "    dydt = (1.0/tau_p) * (-(y - 23.0) + Kp * u)\n",
        "    return dydt\n",
        "\n",
        "def pidPlot(Kc,tauI,tauD):\n",
        "    # initializing setpoints and PID parameters\n",
        "    t = np.linspace(0,tf,n)\n",
        "    P = np.zeros(n)\n",
        "    I = np.zeros(n)\n",
        "    D = np.zeros(n)\n",
        "    e = np.zeros(n)\n",
        "    OP = np.zeros(n)\n",
        "    PV = np.ones(n)*23.0\n",
        "    SP = np.ones(n)*23.0\n",
        "    SP[10:300] = 50.0\n",
        "    SP[300:600] = 40.0\n",
        "    SP[600:1001] = 60.0\n",
        "    y0 = 23.0\n",
        "    iae = 0.0\n",
        "\n",
        "    # looping through all time steps\n",
        "    for i in range(1, n):\n",
        "        ts = [t[i - 1], t[i]]\n",
        "        y = odeint(process, y0, ts, args=(OP[max(0, i - int(theta_p))], ))\n",
        "        y0 = y[1]\n",
        "        iae += np.abs(SP[i] - y0[0])\n",
        "        # calculate new OP with PID\n",
        "        PV[i] = y[1]\n",
        "        e[i] = SP[i] - PV[i]\n",
        "        dt = t[i] - t[i - 1]\n",
        "        P[i] = Kc * e[i]\n",
        "        I[i] = I[i - 1] + (Kc/tauI) * e[i] * dt\n",
        "        D[i] = -Kc * tauD * (PV[i] - PV[i - 1])/dt\n",
        "        OP[i] = P[i] + I[i] + D[i]\n",
        "        if OP[i] >= 100:\n",
        "            OP[i] = 100.0\n",
        "            I[i] = I[i-1]\n",
        "        if OP[i] <= 0:\n",
        "            OP[i] = 0.0\n",
        "            I[i] = I[i - 1]\n",
        "\n",
        "    # plot PID response\n",
        "    plt.figure(1, figsize=(20, 7))\n",
        "    plt.subplot(2, 2, 1)\n",
        "    plt.plot(t, SP, 'k-', linewidth=2, label='Setpoint (SP)')\n",
        "    plt.plot(t, PV, 'r:', linewidth=2, label='F(x)')\n",
        "    plt.ylabel('F(x)')\n",
        "    plt.text(100, 30, 'Integral Abs Error: ' + str(np.round(iae, 2)))\n",
        "    plt.legend(loc='best')\n",
        "\n",
        "Kc_slide = wg.FloatSlider(value=5.0, min=0.0, max=50.0, step=1.0)\n",
        "tauI_slide = wg.FloatSlider(value=5.0, min=5.0, max=180.0, step=5.0)\n",
        "tauD_slide = wg.FloatSlider(value=0.0, min=0.0, max=20.0, step=1.0)\n",
        "wg.interact(pidPlot, Kc=Kc_slide, tauI=tauI_slide, tauD=tauD_slide)"
      ],
      "id": "d44ba242",
      "execution_count": null,
      "outputs": [
        {
          "output_type": "display_data",
          "data": {
            "application/vnd.jupyter.widget-view+json": {
              "model_id": "f25c1b24ea8e474084a504ac00c7f747",
              "version_minor": 0,
              "version_major": 2
            },
            "text/plain": [
              "interactive(children=(FloatSlider(value=5.0, description='Kc', max=50.0, step=1.0), FloatSlider(value=5.0, des…"
            ]
          },
          "metadata": {
            "tags": []
          }
        },
        {
          "output_type": "execute_result",
          "data": {
            "text/plain": [
              "<function __main__.pidPlot>"
            ]
          },
          "metadata": {
            "tags": []
          },
          "execution_count": 1
        }
      ]
    },
    {
      "cell_type": "markdown",
      "metadata": {
        "id": "52577a2f"
      },
      "source": [
        "## References and Additional Materials\n",
        "\n",
        "**YouTube links** -\n",
        "\n",
        "[Control Theory Boot camp — Steve Brunton](https://www.youtube.com/playlist?list=PLMrJAkhIeNNR20Mz-VpzgfQs5zrYi085m)\n",
        "\n",
        "[Underactuated Robotics 2020 - Russ Tedrake](https://www.youtube.com/playlist?list=PLkx8KyIQkMfX1WpWYqtep7TOmboZeDtev)\n",
        "\n",
        "[Classical Control Theory — Brian Douglas](https://www.youtube.com/playlist?list=PLUMWjy5jgHK1NC52DXXrriwihVrYZKqjk)\n"
      ],
      "id": "52577a2f"
    }
  ]
}